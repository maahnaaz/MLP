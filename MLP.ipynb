{
  "nbformat": 4,
  "nbformat_minor": 0,
  "metadata": {
    "colab": {
      "name": "MLP.ipynb",
      "provenance": [],
      "collapsed_sections": []
    },
    "kernelspec": {
      "name": "python3",
      "display_name": "Python 3"
    },
    "language_info": {
      "name": "python"
    }
  },
  "cells": [
    {
      "cell_type": "code",
      "metadata": {
        "id": "FUOhRn2CG6ct"
      },
      "source": [
        "# Importing libraries\n",
        "import numpy as np\n",
        "import matplotlib as mlp\n",
        "import pandas as pd\n",
        "from numpy.random import RandomState\n",
        "import matplotlib.pyplot as plt"
      ],
      "execution_count": 4,
      "outputs": []
    },
    {
      "cell_type": "code",
      "metadata": {
        "id": "krQXRA6lpY2n"
      },
      "source": [
        "# (It is O.K. to set these parameters directly within the source code, please do not implement a user interface for that.)\n",
        "n = 3 # Number of layers\n",
        "Learning_rate = [0.1, 0.05] # learning rate for each layer (excluding Input layer)\n",
        "iteration = 1000 # number of iterations\n",
        "layers_num_neuron = []\n",
        "Transfer_func = []\n",
        "Der_Transfer_func = []\n"
      ],
      "execution_count": 5,
      "outputs": []
    },
    {
      "cell_type": "code",
      "metadata": {
        "id": "LfW1Gr8qQefE"
      },
      "source": [
        "def FermiFunction(z):\n",
        "  # Logistic Function\n",
        "  f = 1/(1+np.exp(-z))\n",
        "  return f"
      ],
      "execution_count": 6,
      "outputs": []
    },
    {
      "cell_type": "code",
      "metadata": {
        "id": "wQOsbyCKVCX7"
      },
      "source": [
        "def FermiFunctionDerivative(z):\n",
        "  # Derivative of logistic function\n",
        "  f = FermiFunction(z)\n",
        "  fprime= f *(1 - f)\n",
        "  return fprime"
      ],
      "execution_count": 7,
      "outputs": []
    },
    {
      "cell_type": "code",
      "metadata": {
        "id": "ZGW4z2i4MjqU"
      },
      "source": [
        "def tanh(z):\n",
        "  # Tanh\n",
        "  t = (np.exp(z)-np.exp(-z))/(np.exp(z)+np.exp(-z))\n",
        "  return t"
      ],
      "execution_count": 8,
      "outputs": []
    },
    {
      "cell_type": "code",
      "metadata": {
        "id": "EnLkrGM5MjhB"
      },
      "source": [
        "def tanhDerivative(z):\n",
        "  # Derivative of Tanh \n",
        "  t = 1 - tanh(z)**2\n",
        "  return t"
      ],
      "execution_count": 9,
      "outputs": []
    },
    {
      "cell_type": "code",
      "metadata": {
        "id": "0cjnL1rKMjPb"
      },
      "source": [
        "def Identity(z):\n",
        "  # Identity function\n",
        "  return z"
      ],
      "execution_count": 10,
      "outputs": []
    },
    {
      "cell_type": "code",
      "metadata": {
        "id": "suWoZnPVMi_h"
      },
      "source": [
        "def IdentityDerivative(z):\n",
        "  # Derivative of Identity function\n",
        "  return 1"
      ],
      "execution_count": 11,
      "outputs": []
    },
    {
      "cell_type": "code",
      "metadata": {
        "id": "STcsI1Sjd82U"
      },
      "source": [
        "def Feedforward(layers_num_neuron, X, weights):\n",
        "  # In this function, we compute the output of each layer by multiplying the neurons \n",
        "  # of the last layer with corresponding weights.\n",
        "  global Transfer_func\n",
        "  out_final = {}\n",
        "  net = np.zeros((len(layers_num_neuron)-1, np.max(layers_num_neuron)))\n",
        "  fnet = np.zeros((len(layers_num_neuron)-1, np.max(layers_num_neuron)))\n",
        "  for i in range(len(layers_num_neuron)-1):\n",
        "    if i == 0:\n",
        "      net[i][:layers_num_neuron[i+1]] = weights[i].dot(X)\n",
        "    else:\n",
        "      net[i][:layers_num_neuron[i+1]] = weights[i].dot(fnet[i-1][:layers_num_neuron[i]])\n",
        "    \n",
        "      \n",
        "    fnet[i][:layers_num_neuron[i+1]] = Transfer_func[i-1](net[i][:layers_num_neuron[i+1]])\n",
        "  \n",
        "  \n",
        "  return net, fnet\n",
        "  "
      ],
      "execution_count": 12,
      "outputs": []
    },
    {
      "cell_type": "code",
      "metadata": {
        "id": "gNGP2Z3iIilM"
      },
      "source": [
        "\n",
        "def Update(layers_num_neuron, weights, delta):\n",
        "  # In this function we are going to update weights by adding the deltas\n",
        "  for i in range(len(layers_num_neuron)-1):\n",
        "    weights[i] = weights[i] + delta[i]\n",
        "  return weights\n",
        "    "
      ],
      "execution_count": 13,
      "outputs": []
    },
    {
      "cell_type": "code",
      "metadata": {
        "id": "kVqaoqRbfNrc"
      },
      "source": [
        "def Backpropagation(X, Y, layers_num_neuron, net, fnet, weights):\n",
        "  # In this function, the weights are trained using delta-rule\n",
        "  global Learning_rate, Transfer_func, Der_Transfer_func\n",
        "  delta = {}\n",
        "  error = 0\n",
        "  s_delta =  np.zeros((len(layers_num_neuron)-1, np.max(layers_num_neuron)))\n",
        "  # Computing delta for weights\n",
        "  for i in range(len(layers_num_neuron)-1, 0, -1):\n",
        "    # Computing error and delta for the hidden-last layer\n",
        "    if i+1 == len(layers_num_neuron):\n",
        "      error = Y - fnet[i-1][:layers_num_neuron[i]]\n",
        "      for j in range(len(error)): \n",
        "        # delta_weight = learning_rate * error * f'(net) * out_previous_layer\n",
        "        delta_last_neuron_j = Learning_rate[i-1]*error[j]*Der_Transfer_func[i-1](net[i-1][j])*fnet[i-2][:layers_num_neuron[i-1]]\n",
        "        s_delta[i-1][j] = error[j]*Der_Transfer_func[i-1](net[i-1][j])\n",
        "        if (i-1) in delta.keys():\n",
        "          delta[i-1].append(delta_last_neuron_j)\n",
        "        else:\n",
        "          delta[i-1] = [delta_last_neuron_j]\n",
        "    # Computing error and delta for weights between hidden layers and first-hidden layer\n",
        "    else:\n",
        "      weight = weights[i]\n",
        "      for j in range(layers_num_neuron[i]): \n",
        "        back_error = 0\n",
        "        # Backpropagating the error from next layer, Sh = (zigma Sk * Whk)*f'(net)\n",
        "        for k in range(layers_num_neuron[i+1]):\n",
        "          back_error = back_error + s_delta[i][k]*weight[k][j]\n",
        "        back_error = back_error*Der_Transfer_func[i-1](net[i-1][j])\n",
        "        # delta_weight = learning_rate * Sh * input (For weights between first-hidden layer)\n",
        "        if i-1 == 0:\n",
        "          delta_last_neuron_j = Learning_rate[i-1]*back_error*X\n",
        "        # delta_weight = learning_rate * Sh * out_previous_layer (For weights between hidden-hidden layer)\n",
        "        else:\n",
        "          delta_last_neuron_j = Learning_rate[i-1]*back_error*fnet[i-2][:layers_num_neuron[i-1]]\n",
        "        s_delta[i-1][j] = back_error\n",
        "        if (i-1) in delta.keys():\n",
        "          delta[i-1].append(delta_last_neuron_j)\n",
        "        else:\n",
        "          delta[i-1] = [delta_last_neuron_j]\n",
        "\n",
        "  return Update(layers_num_neuron, weights, delta)\n",
        "\n",
        "\n",
        "\n",
        "\n"
      ],
      "execution_count": 14,
      "outputs": []
    },
    {
      "cell_type": "code",
      "metadata": {
        "id": "jTAXctavSNne"
      },
      "source": [
        "# Reading File 1\n",
        "df = pd.read_csv(\"PA-B_training_data_01.txt\", sep=\" \", header=None,skiprows=2)\n",
        "m = 1 #number of neurons in the last layer\n",
        "n = 2 #layers_number\n",
        "df1 = df.dropna(axis=1)\n",
        "df1.head()\n",
        "X=df1.iloc[:,:n].values\n",
        "Y=df1.iloc[:,n:(n+m)].values\n"
      ],
      "execution_count": 15,
      "outputs": []
    },
    {
      "cell_type": "code",
      "metadata": {
        "id": "KT6cjmGEUC28"
      },
      "source": [
        "# Reading File 2\n",
        "df = pd.read_csv(\"PA-B_training_data_02.txt\", sep=\" \", header=None,skiprows=2)\n",
        "m = 1 #number of neurons in the last layer\n",
        "n = 2 #layers_number\n",
        "df1 = df.dropna(axis=1)\n",
        "X=df1.iloc[:,:n].values\n",
        "Y=df1.iloc[:,n:(n+m)].values\n",
        "\n"
      ],
      "execution_count": 16,
      "outputs": []
    },
    {
      "cell_type": "code",
      "metadata": {
        "id": "vcGxd1xmUMtG"
      },
      "source": [
        "# Reading File 3\n",
        "df = pd.read_csv(\"PA-B_training_data_03.txt\", sep=' ' ,error_bad_lines=True, header=None, skiprows=2)\n",
        "m = 2 #number of neurons in the last layer\n",
        "n = 4 #layers_number\n",
        "df1 = df.dropna(axis=1)\n",
        "\n",
        "X = df1.iloc[:, :n].values\n",
        "Y = df1.iloc[:,n:(n+m)].values\n"
      ],
      "execution_count": 19,
      "outputs": []
    },
    {
      "cell_type": "code",
      "metadata": {
        "id": "uugFbqhqU5h3"
      },
      "source": [
        "# Reading File 4\n",
        "\n",
        "values = open('PA-B_training_data_04.txt').read().split()\n",
        "m = 1 #number of neurons in the last layer\n",
        "n = 2 #layers_number\n",
        "X, Y = [], []\n",
        "\n",
        "for i in range(6, len(values), 3):\n",
        "  X.append([values[i], values[i+1]])\n",
        "  Y.append(values[i+2])\n",
        "\n",
        "X = np.array(X).astype(np.float)\n",
        "Y = np.array(Y).astype(np.float)\n"
      ],
      "execution_count": 23,
      "outputs": []
    },
    {
      "cell_type": "code",
      "metadata": {
        "id": "CurFXBtvV73p",
        "colab": {
          "base_uri": "https://localhost:8080/",
          "height": 295
        },
        "outputId": "1aee28ac-5263-4b02-f902-e175f35748c3"
      },
      "source": [
        "layers_num_neuron = [n+1, 3, m] # Number of layers (<= 4) and neurons in each layer \n",
        "Transfer_func = [FermiFunction, tanh] # learning rate for each layer (excluding Input layer)\n",
        "Der_Transfer_func = [FermiFunctionDerivative, tanhDerivative]# Derivative of Transfer function for each layer (excluding Input layer)\n",
        "\n",
        "W={}\n",
        "# Generate initial weights with the same seed \n",
        "for i in range(len(layers_num_neuron)-1):\n",
        "  prng = RandomState(i*1000)\n",
        "  W[i] = prng.uniform(low = -2.0 , high = 2.001 , size = (layers_num_neuron[i+1], layers_num_neuron[i]) ) \n",
        "\n",
        "if len(X) <= 1000:\n",
        "  e=[]\n",
        "  for k in range(iteration):\n",
        "    Global_Error, error = 0, 0\n",
        "    # Read one of the files first, then begin the training\n",
        "    for i in range(len(X)):\n",
        "      # Adding bias\n",
        "      x = np.array(list([1]) + list(X[i]))\n",
        "      net, fnet = Feedforward(layers_num_neuron, x, W)\n",
        "      error = error + (Y[i] - fnet[-1][:layers_num_neuron[-1]])**2\n",
        "      W = Backpropagation(x, Y[i], layers_num_neuron, net, fnet, W)\n",
        "    Global_Error = np.sum(error)/len(X)\n",
        "    e.append(Global_Error)\n",
        "    # Writing Global Error on learning curve.txt\n",
        "    if k == 0:\n",
        "      f = open(\"learning curve.txt\", \"w\")\n",
        "    else:\n",
        "      f = open(\"learning curve.txt\", \"a\")\n",
        "    string = 'Eppoch ' + str(k) + '==> Global_Error ' + str(Global_Error) + '\\n'\n",
        "    f.write(string)\n",
        "    f.close()\n",
        "\n",
        "  plt.plot(e, np.arange(iteration), 'r')\n",
        "  plt.xlabel(\"Epoch\")\n",
        "  plt.ylabel(\"Global_Error\")\n",
        "  plt.title(\"Learning Curve\")\n",
        "  plt.show()"
      ],
      "execution_count": 24,
      "outputs": [
        {
          "output_type": "display_data",
          "data": {
            "image/png": "[encoded data removed]",
            "text/plain": [
              "<Figure size 432x288 with 1 Axes>"
            ]
          },
          "metadata": {
            "needs_background": "light"
          }
        }
      ]
    }
  ]
}